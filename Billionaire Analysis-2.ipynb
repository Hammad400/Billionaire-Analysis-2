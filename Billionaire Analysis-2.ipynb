{
 "cells": [
  {
   "cell_type": "markdown",
   "id": "wound-simple",
   "metadata": {},
   "source": [
    "<h1 style=\"color:green\" align=\"center\">Forbes Billionaires Analysis</h1>"
   ]
  },
  {
   "cell_type": "markdown",
   "id": "union-format",
   "metadata": {},
   "source": [
    "<img src=\"forbes_billinaires.JPG\" >"
   ]
  },
  {
   "cell_type": "markdown",
   "id": "first-disclaimer",
   "metadata": {},
   "source": [
    "### project description:\n",
    "In this project I have to do Exploratory Data Analysis on Forbes Billionaires data.This data can be found on kaggle datsets.\n",
    "dataset:"
   ]
  },
  {
   "cell_type": "markdown",
   "id": "stock-harvest",
   "metadata": {},
   "source": [
    "<h3 style=\"color:purple\"> problem statement:</h3>\n",
    "Now the Question is that by doing Exploratory Data Analysis What problem I am going to solve?\n",
    "so here I have to find :\n",
    "<h4 style=\"color:blue\">1.</h4>Which is top country of Billionaires?\n",
    "<h4 style=\"color:blue\">2.</h4>Which is top resource of Billionaires?\n",
    "<h4 style=\"color:blue\">3.</h4>How age of Billionaires is distributed? most commen age?\n",
    "<h4 style=\"color:blue\">4.</h4>What is total worth Billionaires has?"
   ]
  },
  {
   "cell_type": "markdown",
   "id": "applicable-contrary",
   "metadata": {},
   "source": [
    "### solution"
   ]
  },
  {
   "cell_type": "markdown",
   "id": "classified-mexican",
   "metadata": {},
   "source": [
    "I choose python programming as a tool to do this exploratory data analysis .So I have to built my code in Jupyter Notebook \n",
    "Here is step by step process of building solutions."
   ]
  },
  {
   "cell_type": "markdown",
   "id": "certified-orchestra",
   "metadata": {},
   "source": [
    "### Step 1: Import all required libraries"
   ]
  },
  {
   "cell_type": "code",
   "execution_count": 3,
   "id": "thrown-young",
   "metadata": {},
   "outputs": [],
   "source": [
    "import pandas as pd\n",
    "import numpy as np\n",
    "import matplotlib.pyplot as plt\n",
    "import seaborn as sns"
   ]
  },
  {
   "cell_type": "markdown",
   "id": "upper-gather",
   "metadata": {},
   "source": [
    "### step 2: Import csv file and create a dataframe"
   ]
  },
  {
   "cell_type": "code",
   "execution_count": 5,
   "id": "aging-lending",
   "metadata": {},
   "outputs": [
    {
     "data": {
      "text/html": [
       "<div>\n",
       "<style scoped>\n",
       "    .dataframe tbody tr th:only-of-type {\n",
       "        vertical-align: middle;\n",
       "    }\n",
       "\n",
       "    .dataframe tbody tr th {\n",
       "        vertical-align: top;\n",
       "    }\n",
       "\n",
       "    .dataframe thead th {\n",
       "        text-align: right;\n",
       "    }\n",
       "</style>\n",
       "<table border=\"1\" class=\"dataframe\">\n",
       "  <thead>\n",
       "    <tr style=\"text-align: right;\">\n",
       "      <th></th>\n",
       "      <th>Name</th>\n",
       "      <th>NetWorth</th>\n",
       "      <th>Country</th>\n",
       "      <th>Source</th>\n",
       "      <th>Rank</th>\n",
       "    </tr>\n",
       "  </thead>\n",
       "  <tbody>\n",
       "    <tr>\n",
       "      <th>0</th>\n",
       "      <td>Jeff Bezos</td>\n",
       "      <td>$177 B</td>\n",
       "      <td>United States</td>\n",
       "      <td>Amazon</td>\n",
       "      <td>1</td>\n",
       "    </tr>\n",
       "    <tr>\n",
       "      <th>1</th>\n",
       "      <td>Elon Musk</td>\n",
       "      <td>$151 B</td>\n",
       "      <td>United States</td>\n",
       "      <td>Tesla, SpaceX</td>\n",
       "      <td>2</td>\n",
       "    </tr>\n",
       "    <tr>\n",
       "      <th>2</th>\n",
       "      <td>Bernard Arnault &amp; family</td>\n",
       "      <td>$150 B</td>\n",
       "      <td>France</td>\n",
       "      <td>LVMH</td>\n",
       "      <td>3</td>\n",
       "    </tr>\n",
       "    <tr>\n",
       "      <th>3</th>\n",
       "      <td>Bill Gates</td>\n",
       "      <td>$124 B</td>\n",
       "      <td>United States</td>\n",
       "      <td>Microsoft</td>\n",
       "      <td>4</td>\n",
       "    </tr>\n",
       "    <tr>\n",
       "      <th>4</th>\n",
       "      <td>Mark Zuckerberg</td>\n",
       "      <td>$97 B</td>\n",
       "      <td>United States</td>\n",
       "      <td>Facebook</td>\n",
       "      <td>5</td>\n",
       "    </tr>\n",
       "    <tr>\n",
       "      <th>...</th>\n",
       "      <td>...</td>\n",
       "      <td>...</td>\n",
       "      <td>...</td>\n",
       "      <td>...</td>\n",
       "      <td>...</td>\n",
       "    </tr>\n",
       "    <tr>\n",
       "      <th>2750</th>\n",
       "      <td>Daniel Yong Zhang</td>\n",
       "      <td>$1 B</td>\n",
       "      <td>China</td>\n",
       "      <td>e-commerce</td>\n",
       "      <td>2674</td>\n",
       "    </tr>\n",
       "    <tr>\n",
       "      <th>2751</th>\n",
       "      <td>Zhang Yuqiang</td>\n",
       "      <td>$1 B</td>\n",
       "      <td>China</td>\n",
       "      <td>Fiberglass</td>\n",
       "      <td>2674</td>\n",
       "    </tr>\n",
       "    <tr>\n",
       "      <th>2752</th>\n",
       "      <td>Zhao Meiguang</td>\n",
       "      <td>$1 B</td>\n",
       "      <td>China</td>\n",
       "      <td>gold mining</td>\n",
       "      <td>2674</td>\n",
       "    </tr>\n",
       "    <tr>\n",
       "      <th>2753</th>\n",
       "      <td>Zhong Naixiong</td>\n",
       "      <td>$1 B</td>\n",
       "      <td>China</td>\n",
       "      <td>conglomerate</td>\n",
       "      <td>2674</td>\n",
       "    </tr>\n",
       "    <tr>\n",
       "      <th>2754</th>\n",
       "      <td>Zhou Wei family</td>\n",
       "      <td>$1 B</td>\n",
       "      <td>China</td>\n",
       "      <td>Software</td>\n",
       "      <td>2674</td>\n",
       "    </tr>\n",
       "  </tbody>\n",
       "</table>\n",
       "<p>2755 rows × 5 columns</p>\n",
       "</div>"
      ],
      "text/plain": [
       "                          Name NetWorth        Country         Source  Rank\n",
       "0                   Jeff Bezos   $177 B  United States         Amazon     1\n",
       "1                    Elon Musk   $151 B  United States  Tesla, SpaceX     2\n",
       "2     Bernard Arnault & family   $150 B         France           LVMH     3\n",
       "3                   Bill Gates   $124 B  United States      Microsoft     4\n",
       "4              Mark Zuckerberg    $97 B  United States       Facebook     5\n",
       "...                        ...      ...            ...            ...   ...\n",
       "2750         Daniel Yong Zhang     $1 B          China     e-commerce  2674\n",
       "2751             Zhang Yuqiang     $1 B          China     Fiberglass  2674\n",
       "2752             Zhao Meiguang     $1 B          China    gold mining  2674\n",
       "2753            Zhong Naixiong     $1 B          China   conglomerate  2674\n",
       "2754           Zhou Wei family     $1 B          China       Software  2674\n",
       "\n",
       "[2755 rows x 5 columns]"
      ]
     },
     "execution_count": 5,
     "metadata": {},
     "output_type": "execute_result"
    }
   ],
   "source": [
    "df=pd.read_csv(r'E:\\step to ML\\DataSets\\Billionaire.csv')\n",
    "df"
   ]
  },
  {
   "cell_type": "markdown",
   "id": "aerial-noise",
   "metadata": {},
   "source": [
    "### step 3: exploring data"
   ]
  },
  {
   "cell_type": "markdown",
   "id": "essential-visibility",
   "metadata": {},
   "source": [
    "#### shape of data"
   ]
  },
  {
   "cell_type": "code",
   "execution_count": null,
   "id": "ranking-carpet",
   "metadata": {},
   "outputs": [],
   "source": [
    "df.shape"
   ]
  },
  {
   "cell_type": "markdown",
   "id": "married-split",
   "metadata": {},
   "source": [
    "there are 2755 rows and 7 columns.So there are 2755 records and 7 features."
   ]
  },
  {
   "cell_type": "markdown",
   "id": "brutal-staff",
   "metadata": {},
   "source": [
    "#### How many Billionaires in world ?"
   ]
  },
  {
   "cell_type": "markdown",
   "id": "polar-vehicle",
   "metadata": {},
   "source": [
    "As there are 2755 records so there are total 2755 Billionaires"
   ]
  },
  {
   "cell_type": "markdown",
   "id": "vital-hungarian",
   "metadata": {},
   "source": [
    "#### Features"
   ]
  },
  {
   "cell_type": "code",
   "execution_count": null,
   "id": "alike-bernard",
   "metadata": {},
   "outputs": [],
   "source": [
    "df.columns"
   ]
  },
  {
   "cell_type": "code",
   "execution_count": 2,
   "id": "related-sauce",
   "metadata": {},
   "outputs": [
    {
     "ename": "NameError",
     "evalue": "name 'df' is not defined",
     "output_type": "error",
     "traceback": [
      "\u001b[1;31m---------------------------------------------------------------------------\u001b[0m",
      "\u001b[1;31mNameError\u001b[0m                                 Traceback (most recent call last)",
      "\u001b[1;32m<ipython-input-2-8e7a9107c94b>\u001b[0m in \u001b[0;36m<module>\u001b[1;34m\u001b[0m\n\u001b[1;32m----> 1\u001b[1;33m \u001b[0mdf\u001b[0m\u001b[1;33m[\u001b[0m\u001b[0mdf\u001b[0m\u001b[1;33m[\u001b[0m\u001b[1;34m'Country'\u001b[0m\u001b[1;33m]\u001b[0m\u001b[1;33m==\u001b[0m\u001b[1;34m'United States'\u001b[0m\u001b[1;33m]\u001b[0m\u001b[1;33m[\u001b[0m\u001b[1;34m'NetWorth'\u001b[0m\u001b[1;33m]\u001b[0m\u001b[1;33m\u001b[0m\u001b[1;33m\u001b[0m\u001b[0m\n\u001b[0m",
      "\u001b[1;31mNameError\u001b[0m: name 'df' is not defined"
     ]
    }
   ],
   "source": [
    "df[df['Country']=='United States']['NetWorth']"
   ]
  },
  {
   "cell_type": "markdown",
   "id": "motivated-carter",
   "metadata": {},
   "source": [
    "these are 6 features which I have to explore"
   ]
  },
  {
   "cell_type": "markdown",
   "id": "intermediate-poland",
   "metadata": {},
   "source": [
    "#### data type"
   ]
  },
  {
   "cell_type": "code",
   "execution_count": 5,
   "id": "regulated-water",
   "metadata": {},
   "outputs": [
    {
     "name": "stdout",
     "output_type": "stream",
     "text": [
      "<class 'pandas.core.frame.DataFrame'>\n",
      "RangeIndex: 2755 entries, 0 to 2754\n",
      "Data columns (total 7 columns):\n",
      " #   Column    Non-Null Count  Dtype  \n",
      "---  ------    --------------  -----  \n",
      " 0   Name      2755 non-null   object \n",
      " 1   NetWorth  2755 non-null   object \n",
      " 2   Country   2755 non-null   object \n",
      " 3   Source    2755 non-null   object \n",
      " 4   Rank      2755 non-null   int64  \n",
      " 5   Age       2676 non-null   float64\n",
      " 6   Industry  2755 non-null   object \n",
      "dtypes: float64(1), int64(1), object(5)\n",
      "memory usage: 150.8+ KB\n"
     ]
    }
   ],
   "source": [
    "df.info()"
   ]
  },
  {
   "cell_type": "markdown",
   "id": "behavioral-speed",
   "metadata": {},
   "source": [
    "here are age is only one feature which is numerical (in the form of numbers)\n",
    "It is must for Networth to be numerical feature\n",
    "but problem is that NetWorth is not numerical feature so I have to convert it into numerical"
   ]
  },
  {
   "cell_type": "markdown",
   "id": "awful-walter",
   "metadata": {},
   "source": [
    "### checking for any missing values"
   ]
  },
  {
   "cell_type": "code",
   "execution_count": 6,
   "id": "rural-table",
   "metadata": {},
   "outputs": [
    {
     "name": "stdout",
     "output_type": "stream",
     "text": [
      "<class 'pandas.core.frame.DataFrame'>\n",
      "RangeIndex: 2755 entries, 0 to 2754\n",
      "Data columns (total 7 columns):\n",
      " #   Column    Non-Null Count  Dtype  \n",
      "---  ------    --------------  -----  \n",
      " 0   Name      2755 non-null   object \n",
      " 1   NetWorth  2755 non-null   object \n",
      " 2   Country   2755 non-null   object \n",
      " 3   Source    2755 non-null   object \n",
      " 4   Rank      2755 non-null   int64  \n",
      " 5   Age       2676 non-null   float64\n",
      " 6   Industry  2755 non-null   object \n",
      "dtypes: float64(1), int64(1), object(5)\n",
      "memory usage: 150.8+ KB\n"
     ]
    }
   ],
   "source": [
    "df.info()"
   ]
  },
  {
   "cell_type": "markdown",
   "id": "monetary-candy",
   "metadata": {},
   "source": [
    "### step 4: checking for any missing values"
   ]
  },
  {
   "cell_type": "code",
   "execution_count": 7,
   "id": "empty-touch",
   "metadata": {},
   "outputs": [
    {
     "data": {
      "text/plain": [
       "Name         0\n",
       "NetWorth     0\n",
       "Country      0\n",
       "Source       0\n",
       "Rank         0\n",
       "Age         79\n",
       "Industry     0\n",
       "dtype: int64"
      ]
     },
     "execution_count": 7,
     "metadata": {},
     "output_type": "execute_result"
    }
   ],
   "source": [
    "df.isnull().sum()"
   ]
  },
  {
   "cell_type": "markdown",
   "id": "discrete-reverse",
   "metadata": {},
   "source": [
    "Age has 79 missing or null values other features do not have missing values"
   ]
  },
  {
   "cell_type": "markdown",
   "id": "federal-scene",
   "metadata": {},
   "source": [
    "### step 5:converting 'Networth' to Float"
   ]
  },
  {
   "cell_type": "code",
   "execution_count": 8,
   "id": "innovative-nebraska",
   "metadata": {},
   "outputs": [],
   "source": [
    "df['NetWorth']=df['NetWorth'].apply(lambda x:x.strip(\"$B\"))"
   ]
  },
  {
   "cell_type": "code",
   "execution_count": 9,
   "id": "chief-amendment",
   "metadata": {},
   "outputs": [],
   "source": [
    "df['NetWorth']=df['NetWorth'].apply(lambda x:float(x))"
   ]
  },
  {
   "cell_type": "markdown",
   "id": "identical-helmet",
   "metadata": {},
   "source": [
    "##### hare I converted Networth into float value so I removed this $B "
   ]
  },
  {
   "cell_type": "markdown",
   "id": "dirty-tuesday",
   "metadata": {},
   "source": [
    "### step 6:Exploring every feature one by one"
   ]
  },
  {
   "cell_type": "markdown",
   "id": "brilliant-sitting",
   "metadata": {},
   "source": [
    "first thing which i have to know that what is Minimum,Maximum and Total Worth of Billionaires?"
   ]
  },
  {
   "cell_type": "markdown",
   "id": "foster-compilation",
   "metadata": {},
   "source": [
    "### Minimum,Maximum and total worth"
   ]
  },
  {
   "cell_type": "markdown",
   "id": "completed-corporation",
   "metadata": {},
   "source": [
    "##### maximum networth:"
   ]
  },
  {
   "cell_type": "code",
   "execution_count": 10,
   "id": "individual-dressing",
   "metadata": {},
   "outputs": [
    {
     "data": {
      "text/plain": [
       "177.0"
      ]
     },
     "execution_count": 10,
     "metadata": {},
     "output_type": "execute_result"
    }
   ],
   "source": [
    "df['NetWorth'].max()"
   ]
  },
  {
   "cell_type": "markdown",
   "id": "seeing-powder",
   "metadata": {},
   "source": [
    "##### Minimum networth:"
   ]
  },
  {
   "cell_type": "code",
   "execution_count": 11,
   "id": "shaped-density",
   "metadata": {},
   "outputs": [
    {
     "data": {
      "text/plain": [
       "1.0"
      ]
     },
     "execution_count": 11,
     "metadata": {},
     "output_type": "execute_result"
    }
   ],
   "source": [
    "df['NetWorth'].min()"
   ]
  },
  {
   "cell_type": "markdown",
   "id": "fourth-bonus",
   "metadata": {},
   "source": [
    "##### Total networth of all Billionaires:"
   ]
  },
  {
   "cell_type": "code",
   "execution_count": 12,
   "id": "located-lyric",
   "metadata": {},
   "outputs": [
    {
     "data": {
      "text/plain": [
       "13084.099999999999"
      ]
     },
     "execution_count": 12,
     "metadata": {},
     "output_type": "execute_result"
    }
   ],
   "source": [
    "df['NetWorth'].sum()"
   ]
  },
  {
   "cell_type": "code",
   "execution_count": null,
   "id": "alive-copying",
   "metadata": {},
   "outputs": [],
   "source": [
    "As richest person of world have 177 Billion Dollor worth,the miniumum Netwoth owned by a Billionaire is 1 billion dollor\n",
    "If you have question in your mind that how many Networth All Billionaires have? So i am telling you that total Networth of all Billionaires is 13084 Billion dollors"
   ]
  },
  {
   "cell_type": "markdown",
   "id": "contemporary-chick",
   "metadata": {},
   "source": [
    "##### now I am exploring about Top 20 Billionaires that which country and resource of income  they have?"
   ]
  },
  {
   "cell_type": "markdown",
   "id": "royal-battery",
   "metadata": {},
   "source": [
    "### Top twenty Billionaires"
   ]
  },
  {
   "cell_type": "markdown",
   "id": "designing-degree",
   "metadata": {},
   "source": [
    "Here I am showing top 20 Billionaires of world on bar shart"
   ]
  },
  {
   "cell_type": "code",
   "execution_count": 28,
   "id": "acceptable-emperor",
   "metadata": {},
   "outputs": [
    {
     "data": {
      "image/png": "[encoded data removed]",
      "text/plain": [
       "<Figure size 432x288 with 1 Axes>"
      ]
     },
     "metadata": {
      "needs_background": "light"
     },
     "output_type": "display_data"
    }
   ],
   "source": [
    "df[:20].plot(kind='barh',x=\"Name\",y=\"NetWorth\")\n",
    "plt.show()"
   ]
  },
  {
   "cell_type": "markdown",
   "id": "unauthorized-cemetery",
   "metadata": {},
   "source": [
    "bar chart shows that Jeff Bezos is richest person and Elon Musk is 2nd richest person in world\n",
    "Bill Gates is placed at 4th position in the list of Billionaires."
   ]
  },
  {
   "cell_type": "markdown",
   "id": "actual-truck",
   "metadata": {},
   "source": [
    "##### Total Networth of Top 20 Billionaires"
   ]
  },
  {
   "cell_type": "code",
   "execution_count": 29,
   "id": "announced-distance",
   "metadata": {},
   "outputs": [
    {
     "data": {
      "text/plain": [
       "1810.3000000000002"
      ]
     },
     "execution_count": 29,
     "metadata": {},
     "output_type": "execute_result"
    }
   ],
   "source": [
    "df[:20]['NetWorth'].sum()"
   ]
  },
  {
   "cell_type": "markdown",
   "id": "organic-incident",
   "metadata": {},
   "source": [
    "Top 20 Billionaires have 1810 billion dollors.But question is that how much this ratio comparing to all remaining Billionaires?"
   ]
  },
  {
   "cell_type": "code",
   "execution_count": 30,
   "id": "political-austria",
   "metadata": {},
   "outputs": [
    {
     "data": {
      "image/png": "[encoded data removed]",
      "text/plain": [
       "<Figure size 432x288 with 1 Axes>"
      ]
     },
     "metadata": {},
     "output_type": "display_data"
    }
   ],
   "source": [
    "plt.pie([df[:20]['NetWorth'].sum(),df[20:]['NetWorth'].sum()],labels=['networth of top 20 Billionaires','networth of Remaing Billionaires'],autopct='%1.1f%%')\n",
    "#plt.savefig(r'E:\\data analytics at Sparks Foundation\\tasks-3_EDA_super_store\\piechart_states')\n",
    "plt.show()"
   ]
  },
  {
   "cell_type": "code",
   "execution_count": 31,
   "id": "settled-ranch",
   "metadata": {},
   "outputs": [
    {
     "data": {
      "image/png": "[encoded data removed]",
      "text/plain": [
       "<Figure size 432x288 with 1 Axes>"
      ]
     },
     "metadata": {},
     "output_type": "display_data"
    }
   ],
   "source": [
    "plt.pie([20,len(df)-20],labels=['population of top 20 Billionaires','population of Remaing Billionaires'],autopct='%1.1f%%')\n",
    "#plt.savefig(r'E:\\data analytics at Sparks Foundation\\tasks-3_EDA_super_store\\piechart_states')\n",
    "plt.show()"
   ]
  },
  {
   "cell_type": "markdown",
   "id": "informal-comfort",
   "metadata": {},
   "source": [
    "upper bar chart shows that Networth of top 20 billionaires is 13% of all Networth of all Billionaires and lower bar chart shows that top 20 Billionaires are 0.7 % of all Billionaires"
   ]
  },
  {
   "cell_type": "markdown",
   "id": "understood-height",
   "metadata": {},
   "source": [
    "So an amazing stats is that top 20 Billionaires are 0.7 percent of total Billionaires but they have 13 percent Networth of all Billionaires"
   ]
  },
  {
   "cell_type": "code",
   "execution_count": null,
   "id": "driving-american",
   "metadata": {},
   "outputs": [],
   "source": [
    "### country of "
   ]
  },
  {
   "cell_type": "code",
   "execution_count": 32,
   "id": "handy-texas",
   "metadata": {},
   "outputs": [
    {
     "data": {
      "text/plain": [
       "United States    13\n",
       "China             2\n",
       "France            2\n",
       "Mexico            1\n",
       "India             1\n",
       "Spain             1\n",
       "Name: Country, dtype: int64"
      ]
     },
     "execution_count": 32,
     "metadata": {},
     "output_type": "execute_result"
    }
   ],
   "source": [
    "df[:20]['Country'].value_counts()"
   ]
  },
  {
   "cell_type": "code",
   "execution_count": 33,
   "id": "deadly-patient",
   "metadata": {},
   "outputs": [
    {
     "data": {
      "image/png": "[encoded data removed]",
      "text/plain": [
       "<Figure size 432x288 with 1 Axes>"
      ]
     },
     "metadata": {
      "needs_background": "light"
     },
     "output_type": "display_data"
    }
   ],
   "source": [
    "df[:20]['Country'].value_counts().plot(kind='barh')\n",
    "plt.title('countries of top 20 Billionaires')\n",
    "plt.show()"
   ]
  },
  {
   "cell_type": "code",
   "execution_count": 34,
   "id": "universal-variable",
   "metadata": {},
   "outputs": [
    {
     "data": {
      "image/png": "[encoded data removed]",
      "text/plain": [
       "<Figure size 432x288 with 1 Axes>"
      ]
     },
     "metadata": {
      "needs_background": "light"
     },
     "output_type": "display_data"
    }
   ],
   "source": [
    "df[:20]['Source'].value_counts().plot(kind='barh')\n",
    "plt.title('sources of top 20 Billionaires')\n",
    "plt.show()"
   ]
  },
  {
   "cell_type": "markdown",
   "id": "patent-finger",
   "metadata": {},
   "source": [
    "### Exploring Networth"
   ]
  },
  {
   "cell_type": "code",
   "execution_count": 35,
   "id": "republican-cambodia",
   "metadata": {},
   "outputs": [
    {
     "data": {
      "text/plain": [
       "count    2755.000000\n",
       "mean        4.749220\n",
       "std         9.615358\n",
       "min         1.000000\n",
       "25%         1.500000\n",
       "50%         2.300000\n",
       "75%         4.200000\n",
       "max       177.000000\n",
       "Name: NetWorth, dtype: float64"
      ]
     },
     "execution_count": 35,
     "metadata": {},
     "output_type": "execute_result"
    }
   ],
   "source": [
    "df['NetWorth'].describe()"
   ]
  },
  {
   "cell_type": "code",
   "execution_count": 64,
   "id": "coated-crash",
   "metadata": {},
   "outputs": [],
   "source": [
    "#sns.distplot(df[\"NetWorth\"],color='g')"
   ]
  },
  {
   "cell_type": "code",
   "execution_count": 36,
   "id": "saved-pepper",
   "metadata": {},
   "outputs": [
    {
     "data": {
      "image/png": "[encoded data removed]",
      "text/plain": [
       "<Figure size 432x288 with 1 Axes>"
      ]
     },
     "metadata": {
      "needs_background": "light"
     },
     "output_type": "display_data"
    }
   ],
   "source": [
    "plt.hist(df[\"NetWorth\"],bins=4)\n",
    "plt.show()"
   ]
  },
  {
   "cell_type": "markdown",
   "id": "infrared-shadow",
   "metadata": {},
   "source": [
    "### Exploring countries"
   ]
  },
  {
   "cell_type": "code",
   "execution_count": 37,
   "id": "fresh-provider",
   "metadata": {},
   "outputs": [],
   "source": [
    "### Exploring countries\n",
    "countries=df['Country'].unique()\n",
    "# countries"
   ]
  },
  {
   "cell_type": "code",
   "execution_count": 38,
   "id": "informal-liver",
   "metadata": {},
   "outputs": [
    {
     "data": {
      "text/plain": [
       "70"
      ]
     },
     "execution_count": 38,
     "metadata": {},
     "output_type": "execute_result"
    }
   ],
   "source": [
    "len(countries)"
   ]
  },
  {
   "cell_type": "code",
   "execution_count": 39,
   "id": "emotional-logistics",
   "metadata": {},
   "outputs": [
    {
     "data": {
      "text/plain": [
       "United States     724\n",
       "China             626\n",
       "India             140\n",
       "Germany           136\n",
       "Russia            118\n",
       "Hong Kong          71\n",
       "Brazil             65\n",
       "Canada             64\n",
       "United Kingdom     56\n",
       "Italy              51\n",
       "Japan              49\n",
       "Taiwan             47\n",
       "Australia          44\n",
       "South Korea        43\n",
       "France             42\n",
       "Sweden             41\n",
       "Switzerland        40\n",
       "Thailand           31\n",
       "Spain              30\n",
       "Singapore          27\n",
       "Name: Country, dtype: int64"
      ]
     },
     "execution_count": 39,
     "metadata": {},
     "output_type": "execute_result"
    }
   ],
   "source": [
    "df['Country'].value_counts()[:20]"
   ]
  },
  {
   "cell_type": "code",
   "execution_count": 40,
   "id": "basic-jewelry",
   "metadata": {},
   "outputs": [
    {
     "data": {
      "image/png": "[encoded data removed]",
      "text/plain": [
       "<Figure size 432x288 with 1 Axes>"
      ]
     },
     "metadata": {
      "needs_background": "light"
     },
     "output_type": "display_data"
    }
   ],
   "source": [
    "df['Country'].value_counts()[:20].plot(kind='barh')\n",
    "plt.show()"
   ]
  },
  {
   "cell_type": "code",
   "execution_count": 41,
   "id": "tracked-marina",
   "metadata": {},
   "outputs": [
    {
     "data": {
      "text/plain": [
       "<AxesSubplot:ylabel='Country'>"
      ]
     },
     "execution_count": 41,
     "metadata": {},
     "output_type": "execute_result"
    },
    {
     "data": {
      "image/png": "[encoded data removed]",
      "text/plain": [
       "<Figure size 432x288 with 1 Axes>"
      ]
     },
     "metadata": {
      "needs_background": "light"
     },
     "output_type": "display_data"
    }
   ],
   "source": [
    "df.groupby('Country')['NetWorth'].mean().sort_values(ascending=False)[:20].plot(kind='barh')"
   ]
  },
  {
   "cell_type": "code",
   "execution_count": 42,
   "id": "looking-library",
   "metadata": {},
   "outputs": [
    {
     "data": {
      "text/plain": [
       "<AxesSubplot:ylabel='Country'>"
      ]
     },
     "execution_count": 42,
     "metadata": {},
     "output_type": "execute_result"
    },
    {
     "data": {
      "image/png": "[encoded data removed]",
      "text/plain": [
       "<Figure size 432x288 with 1 Axes>"
      ]
     },
     "metadata": {
      "needs_background": "light"
     },
     "output_type": "display_data"
    }
   ],
   "source": [
    "df.groupby('Country')['NetWorth'].sum().sort_values(ascending=False)[:20].plot(kind='barh')"
   ]
  },
  {
   "cell_type": "code",
   "execution_count": 43,
   "id": "controversial-karen",
   "metadata": {},
   "outputs": [],
   "source": [
    "list1=list(df.groupby('Country')['NetWorth'].sum().sort_values(ascending=False)[:5],)"
   ]
  },
  {
   "cell_type": "code",
   "execution_count": 44,
   "id": "known-brunswick",
   "metadata": {},
   "outputs": [],
   "source": [
    "list1.append(df.groupby('Country')['NetWorth'].sum().sort_values(ascending=False)[5:].sum())"
   ]
  },
  {
   "cell_type": "code",
   "execution_count": 45,
   "id": "random-manual",
   "metadata": {},
   "outputs": [
    {
     "data": {
      "text/plain": [
       "[4398.4000000000015,\n",
       " 2531.8999999999955,\n",
       " 625.5000000000006,\n",
       " 596.4000000000002,\n",
       " 586.0000000000001,\n",
       " 4345.9]"
      ]
     },
     "execution_count": 45,
     "metadata": {},
     "output_type": "execute_result"
    }
   ],
   "source": [
    "list1"
   ]
  },
  {
   "cell_type": "code",
   "execution_count": 46,
   "id": "cardiac-artist",
   "metadata": {},
   "outputs": [
    {
     "data": {
      "text/plain": [
       "['United States', 'China', 'Germany', 'India', 'Russia']"
      ]
     },
     "execution_count": 46,
     "metadata": {},
     "output_type": "execute_result"
    }
   ],
   "source": [
    "list2=list(df.groupby('Country')['NetWorth'].sum().sort_values(ascending=False)[:5].keys())\n",
    "list2"
   ]
  },
  {
   "cell_type": "code",
   "execution_count": 47,
   "id": "acting-gibraltar",
   "metadata": {},
   "outputs": [],
   "source": [
    "list2.append('Remaning countries')"
   ]
  },
  {
   "cell_type": "code",
   "execution_count": 48,
   "id": "innocent-stewart",
   "metadata": {},
   "outputs": [
    {
     "data": {
      "text/plain": [
       "['United States', 'China', 'Germany', 'India', 'Russia', 'Remaning countries']"
      ]
     },
     "execution_count": 48,
     "metadata": {},
     "output_type": "execute_result"
    }
   ],
   "source": [
    "list2"
   ]
  },
  {
   "cell_type": "code",
   "execution_count": 49,
   "id": "african-section",
   "metadata": {},
   "outputs": [
    {
     "data": {
      "image/png": "[encoded data removed]",
      "text/plain": [
       "<Figure size 432x288 with 1 Axes>"
      ]
     },
     "metadata": {},
     "output_type": "display_data"
    }
   ],
   "source": [
    "plt.pie(list1,labels=list2,autopct='%1.1f%%')\n",
    "# plt.savefig(r'E:\\data analytics at Sparks Foundation\\tasks-3_EDA_super_store\\piechart_cities')\n",
    "plt.show()"
   ]
  },
  {
   "cell_type": "markdown",
   "id": "governing-gibraltar",
   "metadata": {},
   "source": [
    "### exploring source"
   ]
  },
  {
   "cell_type": "code",
   "execution_count": 50,
   "id": "medieval-israeli",
   "metadata": {},
   "outputs": [],
   "source": [
    "sources=df['Source'].unique()\n",
    "# sources"
   ]
  },
  {
   "cell_type": "code",
   "execution_count": 51,
   "id": "collected-economy",
   "metadata": {},
   "outputs": [
    {
     "data": {
      "text/plain": [
       "924"
      ]
     },
     "execution_count": 51,
     "metadata": {},
     "output_type": "execute_result"
    }
   ],
   "source": [
    "len(sources)"
   ]
  },
  {
   "cell_type": "code",
   "execution_count": 52,
   "id": "annual-island",
   "metadata": {},
   "outputs": [
    {
     "data": {
      "text/plain": [
       "<AxesSubplot:>"
      ]
     },
     "execution_count": 52,
     "metadata": {},
     "output_type": "execute_result"
    },
    {
     "data": {
      "image/png": "[encoded data removed]",
      "text/plain": [
       "<Figure size 432x288 with 1 Axes>"
      ]
     },
     "metadata": {
      "needs_background": "light"
     },
     "output_type": "display_data"
    }
   ],
   "source": [
    "df['Source'].value_counts()[:20].plot(kind='barh')"
   ]
  },
  {
   "cell_type": "code",
   "execution_count": 53,
   "id": "brief-china",
   "metadata": {},
   "outputs": [
    {
     "data": {
      "text/plain": [
       "<AxesSubplot:ylabel='Source'>"
      ]
     },
     "execution_count": 53,
     "metadata": {},
     "output_type": "execute_result"
    },
    {
     "data": {
      "image/png": "[encoded data removed]",
      "text/plain": [
       "<Figure size 432x288 with 1 Axes>"
      ]
     },
     "metadata": {
      "needs_background": "light"
     },
     "output_type": "display_data"
    }
   ],
   "source": [
    "df.groupby('Source')['NetWorth'].mean().sort_values(ascending=False)[:20].plot(kind='barh')"
   ]
  },
  {
   "cell_type": "code",
   "execution_count": 54,
   "id": "electronic-harris",
   "metadata": {},
   "outputs": [
    {
     "data": {
      "text/plain": [
       "<AxesSubplot:ylabel='Source'>"
      ]
     },
     "execution_count": 54,
     "metadata": {},
     "output_type": "execute_result"
    },
    {
     "data": {
      "image/png": "[encoded data removed]",
      "text/plain": [
       "<Figure size 432x288 with 1 Axes>"
      ]
     },
     "metadata": {
      "needs_background": "light"
     },
     "output_type": "display_data"
    }
   ],
   "source": [
    "df.groupby('Source')['NetWorth'].sum().sort_values(ascending=False)[:20].plot(kind='barh')"
   ]
  },
  {
   "cell_type": "code",
   "execution_count": 56,
   "id": "fresh-yahoo",
   "metadata": {},
   "outputs": [
    {
     "data": {
      "text/plain": [
       "<AxesSubplot:>"
      ]
     },
     "execution_count": 56,
     "metadata": {},
     "output_type": "execute_result"
    },
    {
     "data": {
      "image/png": "[encoded data removed]",
      "text/plain": [
       "<Figure size 432x288 with 1 Axes>"
      ]
     },
     "metadata": {
      "needs_background": "light"
     },
     "output_type": "display_data"
    }
   ],
   "source": [
    "df['Country'][df['NetWorth']==1].value_counts().plot(kind='barh')"
   ]
  },
  {
   "cell_type": "markdown",
   "id": "banned-syracuse",
   "metadata": {},
   "source": [
    "### exploring age"
   ]
  },
  {
   "cell_type": "code",
   "execution_count": 60,
   "id": "adequate-praise",
   "metadata": {},
   "outputs": [
    {
     "data": {
      "image/png": "[encoded data removed]",
      "text/plain": [
       "<Figure size 432x288 with 1 Axes>"
      ]
     },
     "metadata": {
      "needs_background": "light"
     },
     "output_type": "display_data"
    }
   ],
   "source": [
    "plt.hist(df['Age'],bins=4)\n",
    "plt.show()"
   ]
  },
  {
   "cell_type": "code",
   "execution_count": 65,
   "id": "resident-education",
   "metadata": {},
   "outputs": [
    {
     "name": "stderr",
     "output_type": "stream",
     "text": [
      "c:\\users\\sk\\appdata\\local\\programs\\python\\python39\\lib\\site-packages\\seaborn\\distributions.py:2557: FutureWarning: `distplot` is a deprecated function and will be removed in a future version. Please adapt your code to use either `displot` (a figure-level function with similar flexibility) or `histplot` (an axes-level function for histograms).\n",
      "  warnings.warn(msg, FutureWarning)\n"
     ]
    },
    {
     "data": {
      "text/plain": [
       "<AxesSubplot:xlabel='Age', ylabel='Density'>"
      ]
     },
     "execution_count": 65,
     "metadata": {},
     "output_type": "execute_result"
    },
    {
     "data": {
      "image/png": "[encoded data removed]",
      "text/plain": [
       "<Figure size 432x288 with 1 Axes>"
      ]
     },
     "metadata": {
      "needs_background": "light"
     },
     "output_type": "display_data"
    }
   ],
   "source": [
    "sns.distplot(df[\"Age\"],color='g')"
   ]
  },
  {
   "cell_type": "code",
   "execution_count": 62,
   "id": "korean-despite",
   "metadata": {},
   "outputs": [
    {
     "data": {
      "text/plain": [
       "count    2676.000000\n",
       "mean       63.113602\n",
       "std        13.445153\n",
       "min        18.000000\n",
       "25%        54.000000\n",
       "50%        63.000000\n",
       "75%        73.000000\n",
       "max        99.000000\n",
       "Name: Age, dtype: float64"
      ]
     },
     "execution_count": 62,
     "metadata": {},
     "output_type": "execute_result"
    }
   ],
   "source": [
    "df['Age'].describe()"
   ]
  },
  {
   "cell_type": "code",
   "execution_count": 67,
   "id": "selective-mattress",
   "metadata": {},
   "outputs": [
    {
     "data": {
      "text/html": [
       "<div>\n",
       "<style scoped>\n",
       "    .dataframe tbody tr th:only-of-type {\n",
       "        vertical-align: middle;\n",
       "    }\n",
       "\n",
       "    .dataframe tbody tr th {\n",
       "        vertical-align: top;\n",
       "    }\n",
       "\n",
       "    .dataframe thead th {\n",
       "        text-align: right;\n",
       "    }\n",
       "</style>\n",
       "<table border=\"1\" class=\"dataframe\">\n",
       "  <thead>\n",
       "    <tr style=\"text-align: right;\">\n",
       "      <th></th>\n",
       "      <th>Name</th>\n",
       "      <th>NetWorth</th>\n",
       "      <th>Country</th>\n",
       "      <th>Source</th>\n",
       "      <th>Rank</th>\n",
       "      <th>Age</th>\n",
       "      <th>Industry</th>\n",
       "    </tr>\n",
       "  </thead>\n",
       "  <tbody>\n",
       "    <tr>\n",
       "      <th>940</th>\n",
       "      <td>Kevin David Lehmann</td>\n",
       "      <td>3.3</td>\n",
       "      <td>Germany</td>\n",
       "      <td>drugstores</td>\n",
       "      <td>925</td>\n",
       "      <td>18.0</td>\n",
       "      <td>Fashion &amp; Retail</td>\n",
       "    </tr>\n",
       "    <tr>\n",
       "      <th>2122</th>\n",
       "      <td>Wang Zelong</td>\n",
       "      <td>1.5</td>\n",
       "      <td>China</td>\n",
       "      <td>chemicals</td>\n",
       "      <td>2035</td>\n",
       "      <td>24.0</td>\n",
       "      <td>Metals &amp; Mining</td>\n",
       "    </tr>\n",
       "    <tr>\n",
       "      <th>2143</th>\n",
       "      <td>Alexandra Andresen</td>\n",
       "      <td>1.4</td>\n",
       "      <td>Norway</td>\n",
       "      <td>investments</td>\n",
       "      <td>2141</td>\n",
       "      <td>24.0</td>\n",
       "      <td>Diversified</td>\n",
       "    </tr>\n",
       "    <tr>\n",
       "      <th>2144</th>\n",
       "      <td>Katharina Andresen</td>\n",
       "      <td>1.4</td>\n",
       "      <td>Norway</td>\n",
       "      <td>investments</td>\n",
       "      <td>2141</td>\n",
       "      <td>25.0</td>\n",
       "      <td>Diversified</td>\n",
       "    </tr>\n",
       "  </tbody>\n",
       "</table>\n",
       "</div>"
      ],
      "text/plain": [
       "                     Name  NetWorth  Country       Source  Rank   Age  \\\n",
       "940   Kevin David Lehmann       3.3  Germany   drugstores   925  18.0   \n",
       "2122          Wang Zelong       1.5    China    chemicals  2035  24.0   \n",
       "2143   Alexandra Andresen       1.4   Norway  investments  2141  24.0   \n",
       "2144   Katharina Andresen       1.4   Norway  investments  2141  25.0   \n",
       "\n",
       "              Industry  \n",
       "940   Fashion & Retail  \n",
       "2122   Metals & Mining  \n",
       "2143       Diversified  \n",
       "2144       Diversified  "
      ]
     },
     "execution_count": 67,
     "metadata": {},
     "output_type": "execute_result"
    }
   ],
   "source": [
    "df[df['Age']<=25]"
   ]
  },
  {
   "cell_type": "code",
   "execution_count": 68,
   "id": "organic-resistance",
   "metadata": {},
   "outputs": [
    {
     "data": {
      "text/html": [
       "<div>\n",
       "<style scoped>\n",
       "    .dataframe tbody tr th:only-of-type {\n",
       "        vertical-align: middle;\n",
       "    }\n",
       "\n",
       "    .dataframe tbody tr th {\n",
       "        vertical-align: top;\n",
       "    }\n",
       "\n",
       "    .dataframe thead th {\n",
       "        text-align: right;\n",
       "    }\n",
       "</style>\n",
       "<table border=\"1\" class=\"dataframe\">\n",
       "  <thead>\n",
       "    <tr style=\"text-align: right;\">\n",
       "      <th></th>\n",
       "      <th>Name</th>\n",
       "      <th>NetWorth</th>\n",
       "      <th>Country</th>\n",
       "      <th>Source</th>\n",
       "      <th>Rank</th>\n",
       "      <th>Age</th>\n",
       "      <th>Industry</th>\n",
       "    </tr>\n",
       "  </thead>\n",
       "  <tbody>\n",
       "    <tr>\n",
       "      <th>198</th>\n",
       "      <td>Evan Spiegel</td>\n",
       "      <td>11.1</td>\n",
       "      <td>United States</td>\n",
       "      <td>Snapchat</td>\n",
       "      <td>197</td>\n",
       "      <td>30.0</td>\n",
       "      <td>Technology</td>\n",
       "    </tr>\n",
       "    <tr>\n",
       "      <th>274</th>\n",
       "      <td>Sam Bankman-Fried</td>\n",
       "      <td>8.7</td>\n",
       "      <td>United States</td>\n",
       "      <td>cryptocurrency</td>\n",
       "      <td>274</td>\n",
       "      <td>29.0</td>\n",
       "      <td>Finance &amp; Investments</td>\n",
       "    </tr>\n",
       "    <tr>\n",
       "      <th>661</th>\n",
       "      <td>Gustav Magnar Witzoe</td>\n",
       "      <td>4.4</td>\n",
       "      <td>Norway</td>\n",
       "      <td>fish farming</td>\n",
       "      <td>655</td>\n",
       "      <td>27.0</td>\n",
       "      <td>Food &amp; Beverage</td>\n",
       "    </tr>\n",
       "    <tr>\n",
       "      <th>940</th>\n",
       "      <td>Kevin David Lehmann</td>\n",
       "      <td>3.3</td>\n",
       "      <td>Germany</td>\n",
       "      <td>drugstores</td>\n",
       "      <td>925</td>\n",
       "      <td>18.0</td>\n",
       "      <td>Fashion &amp; Retail</td>\n",
       "    </tr>\n",
       "    <tr>\n",
       "      <th>959</th>\n",
       "      <td>John Collison</td>\n",
       "      <td>3.2</td>\n",
       "      <td>Ireland</td>\n",
       "      <td>payments software</td>\n",
       "      <td>956</td>\n",
       "      <td>30.0</td>\n",
       "      <td>Technology</td>\n",
       "    </tr>\n",
       "    <tr>\n",
       "      <th>1011</th>\n",
       "      <td>Pedro de Godoy Bueno</td>\n",
       "      <td>3.0</td>\n",
       "      <td>Brazil</td>\n",
       "      <td>health insurance</td>\n",
       "      <td>1008</td>\n",
       "      <td>30.0</td>\n",
       "      <td>Healthcare</td>\n",
       "    </tr>\n",
       "    <tr>\n",
       "      <th>1328</th>\n",
       "      <td>Jonathan Kwok</td>\n",
       "      <td>2.4</td>\n",
       "      <td>Hong Kong</td>\n",
       "      <td>Real Estate</td>\n",
       "      <td>1299</td>\n",
       "      <td>29.0</td>\n",
       "      <td>Real Estate</td>\n",
       "    </tr>\n",
       "    <tr>\n",
       "      <th>1338</th>\n",
       "      <td>Austin Russell</td>\n",
       "      <td>2.4</td>\n",
       "      <td>United States</td>\n",
       "      <td>★</td>\n",
       "      <td>1299</td>\n",
       "      <td>26.0</td>\n",
       "      <td>Automotive</td>\n",
       "    </tr>\n",
       "    <tr>\n",
       "      <th>1596</th>\n",
       "      <td>Andy Fang</td>\n",
       "      <td>2.0</td>\n",
       "      <td>United States</td>\n",
       "      <td>food delivery app</td>\n",
       "      <td>1580</td>\n",
       "      <td>28.0</td>\n",
       "      <td>Technology</td>\n",
       "    </tr>\n",
       "    <tr>\n",
       "      <th>1645</th>\n",
       "      <td>Stanley Tang</td>\n",
       "      <td>2.0</td>\n",
       "      <td>United States</td>\n",
       "      <td>food delivery app</td>\n",
       "      <td>1580</td>\n",
       "      <td>28.0</td>\n",
       "      <td>Technology</td>\n",
       "    </tr>\n",
       "    <tr>\n",
       "      <th>1799</th>\n",
       "      <td>Nick Molnar</td>\n",
       "      <td>1.8</td>\n",
       "      <td>Australia</td>\n",
       "      <td>fintech</td>\n",
       "      <td>1750</td>\n",
       "      <td>30.0</td>\n",
       "      <td>Finance &amp; Investments</td>\n",
       "    </tr>\n",
       "    <tr>\n",
       "      <th>1949</th>\n",
       "      <td>Lisa Draexlmaier</td>\n",
       "      <td>1.6</td>\n",
       "      <td>Germany</td>\n",
       "      <td>auto parts</td>\n",
       "      <td>1931</td>\n",
       "      <td>30.0</td>\n",
       "      <td>Automotive</td>\n",
       "    </tr>\n",
       "    <tr>\n",
       "      <th>2122</th>\n",
       "      <td>Wang Zelong</td>\n",
       "      <td>1.5</td>\n",
       "      <td>China</td>\n",
       "      <td>chemicals</td>\n",
       "      <td>2035</td>\n",
       "      <td>24.0</td>\n",
       "      <td>Metals &amp; Mining</td>\n",
       "    </tr>\n",
       "    <tr>\n",
       "      <th>2143</th>\n",
       "      <td>Alexandra Andresen</td>\n",
       "      <td>1.4</td>\n",
       "      <td>Norway</td>\n",
       "      <td>investments</td>\n",
       "      <td>2141</td>\n",
       "      <td>24.0</td>\n",
       "      <td>Diversified</td>\n",
       "    </tr>\n",
       "    <tr>\n",
       "      <th>2144</th>\n",
       "      <td>Katharina Andresen</td>\n",
       "      <td>1.4</td>\n",
       "      <td>Norway</td>\n",
       "      <td>investments</td>\n",
       "      <td>2141</td>\n",
       "      <td>25.0</td>\n",
       "      <td>Diversified</td>\n",
       "    </tr>\n",
       "  </tbody>\n",
       "</table>\n",
       "</div>"
      ],
      "text/plain": [
       "                      Name  NetWorth        Country             Source  Rank  \\\n",
       "198           Evan Spiegel      11.1  United States           Snapchat   197   \n",
       "274      Sam Bankman-Fried       8.7  United States     cryptocurrency   274   \n",
       "661   Gustav Magnar Witzoe       4.4         Norway       fish farming   655   \n",
       "940    Kevin David Lehmann       3.3        Germany         drugstores   925   \n",
       "959          John Collison       3.2        Ireland  payments software   956   \n",
       "1011  Pedro de Godoy Bueno       3.0         Brazil   health insurance  1008   \n",
       "1328         Jonathan Kwok       2.4      Hong Kong        Real Estate  1299   \n",
       "1338        Austin Russell       2.4  United States                  ★  1299   \n",
       "1596             Andy Fang       2.0  United States  food delivery app  1580   \n",
       "1645          Stanley Tang       2.0  United States  food delivery app  1580   \n",
       "1799           Nick Molnar       1.8      Australia            fintech  1750   \n",
       "1949      Lisa Draexlmaier       1.6        Germany         auto parts  1931   \n",
       "2122           Wang Zelong       1.5          China          chemicals  2035   \n",
       "2143    Alexandra Andresen       1.4         Norway        investments  2141   \n",
       "2144    Katharina Andresen       1.4         Norway        investments  2141   \n",
       "\n",
       "       Age               Industry  \n",
       "198   30.0             Technology  \n",
       "274   29.0  Finance & Investments  \n",
       "661   27.0        Food & Beverage  \n",
       "940   18.0       Fashion & Retail  \n",
       "959   30.0             Technology  \n",
       "1011  30.0             Healthcare  \n",
       "1328  29.0            Real Estate  \n",
       "1338  26.0             Automotive  \n",
       "1596  28.0             Technology  \n",
       "1645  28.0             Technology  \n",
       "1799  30.0  Finance & Investments  \n",
       "1949  30.0             Automotive  \n",
       "2122  24.0        Metals & Mining  \n",
       "2143  24.0            Diversified  \n",
       "2144  25.0            Diversified  "
      ]
     },
     "execution_count": 68,
     "metadata": {},
     "output_type": "execute_result"
    }
   ],
   "source": [
    "df[df['Age']<=30]"
   ]
  },
  {
   "cell_type": "code",
   "execution_count": 91,
   "id": "complicated-coaching",
   "metadata": {},
   "outputs": [
    {
     "name": "stderr",
     "output_type": "stream",
     "text": [
      "<ipython-input-91-b8a7e7ce1c1a>:1: UserWarning: Boolean Series key will be reindexed to match DataFrame index.\n",
      "  list1=[len(df[df['Age']<=25]),len(df[df['Age']>25][df['Age']<=45]),len(df[df['Age']>45][df['Age']<=60]),len(df[df['Age']>60])]\n",
      "<ipython-input-91-b8a7e7ce1c1a>:1: UserWarning: Boolean Series key will be reindexed to match DataFrame index.\n",
      "  list1=[len(df[df['Age']<=25]),len(df[df['Age']>25][df['Age']<=45]),len(df[df['Age']>45][df['Age']<=60]),len(df[df['Age']>60])]\n"
     ]
    },
    {
     "data": {
      "text/plain": [
       "[4, 239, 973, 1460]"
      ]
     },
     "execution_count": 91,
     "metadata": {},
     "output_type": "execute_result"
    }
   ],
   "source": [
    "list1=[len(df[df['Age']<=25]),len(df[df['Age']>25][df['Age']<=45]),len(df[df['Age']>45][df['Age']<=60]),len(df[df['Age']>60])]\n",
    "list1"
   ]
  },
  {
   "cell_type": "code",
   "execution_count": 92,
   "id": "phantom-harris",
   "metadata": {},
   "outputs": [],
   "source": [
    "list2=['18-25','25-45','45-60','60-100']"
   ]
  },
  {
   "cell_type": "code",
   "execution_count": 93,
   "id": "political-background",
   "metadata": {},
   "outputs": [
    {
     "data": {
      "image/png": "[encoded data removed]",
      "text/plain": [
       "<Figure size 432x288 with 1 Axes>"
      ]
     },
     "metadata": {},
     "output_type": "display_data"
    }
   ],
   "source": [
    "plt.pie(list1,labels=list2,autopct='%1.1f%%')\n",
    "# plt.savefig(r'E:\\data analytics at Sparks Foundation\\tasks-3_EDA_super_store\\piechart_cities')\n",
    "plt.show()"
   ]
  },
  {
   "cell_type": "markdown",
   "id": "excess-lecture",
   "metadata": {},
   "source": [
    "### exploring Industry"
   ]
  },
  {
   "cell_type": "code",
   "execution_count": 70,
   "id": "colonial-draft",
   "metadata": {},
   "outputs": [
    {
     "data": {
      "text/plain": [
       "Finance & Investments         371\n",
       "Technology                    365\n",
       "Manufacturing                 331\n",
       "Fashion & Retail              273\n",
       "Healthcare                    221\n",
       "Food & Beverage               219\n",
       "Real Estate                   215\n",
       "Diversified                   188\n",
       "Energy                        100\n",
       "Media & Entertainment          95\n",
       "Service                        75\n",
       "Metals & Mining                74\n",
       "Automotive                     68\n",
       "Construction & Engineering     44\n",
       "Logistics                      35\n",
       "Telecom                        32\n",
       "Gambling & Casinos             25\n",
       "Sports                         24\n",
       "Name: Industry, dtype: int64"
      ]
     },
     "execution_count": 70,
     "metadata": {},
     "output_type": "execute_result"
    }
   ],
   "source": [
    "df['Industry'].value_counts()"
   ]
  },
  {
   "cell_type": "code",
   "execution_count": 72,
   "id": "exposed-thermal",
   "metadata": {},
   "outputs": [
    {
     "data": {
      "text/plain": [
       "<AxesSubplot:>"
      ]
     },
     "execution_count": 72,
     "metadata": {},
     "output_type": "execute_result"
    },
    {
     "data": {
      "image/png": "[encoded data removed]",
      "text/plain": [
       "<Figure size 432x288 with 1 Axes>"
      ]
     },
     "metadata": {
      "needs_background": "light"
     },
     "output_type": "display_data"
    }
   ],
   "source": [
    "df['Industry'].value_counts().plot(kind='barh')"
   ]
  },
  {
   "cell_type": "code",
   "execution_count": 73,
   "id": "south-conversion",
   "metadata": {},
   "outputs": [
    {
     "data": {
      "text/plain": [
       "<AxesSubplot:ylabel='Industry'>"
      ]
     },
     "execution_count": 73,
     "metadata": {},
     "output_type": "execute_result"
    },
    {
     "data": {
      "image/png": "[encoded data removed]",
      "text/plain": [
       "<Figure size 432x288 with 1 Axes>"
      ]
     },
     "metadata": {
      "needs_background": "light"
     },
     "output_type": "display_data"
    }
   ],
   "source": [
    "df.groupby('Industry')['NetWorth'].mean().sort_values(ascending=False)[:20].plot(kind='barh')"
   ]
  },
  {
   "cell_type": "code",
   "execution_count": 74,
   "id": "sharp-swaziland",
   "metadata": {},
   "outputs": [
    {
     "data": {
      "text/plain": [
       "<AxesSubplot:ylabel='Industry'>"
      ]
     },
     "execution_count": 74,
     "metadata": {},
     "output_type": "execute_result"
    },
    {
     "data": {
      "image/png": "[encoded data removed]",
      "text/plain": [
       "<Figure size 432x288 with 1 Axes>"
      ]
     },
     "metadata": {
      "needs_background": "light"
     },
     "output_type": "display_data"
    }
   ],
   "source": [
    "df.groupby('Industry')['NetWorth'].sum().sort_values(ascending=False)[:20].plot(kind='barh')"
   ]
  },
  {
   "cell_type": "code",
   "execution_count": null,
   "id": "statewide-excess",
   "metadata": {},
   "outputs": [],
   "source": []
  }
 ],
 "metadata": {
  "kernelspec": {
   "display_name": "Python 3 (ipykernel)",
   "language": "python",
   "name": "python3"
  },
  "language_info": {
   "codemirror_mode": {
    "name": "ipython",
    "version": 3
   },
   "file_extension": ".py",
   "mimetype": "text/x-python",
   "name": "python",
   "nbconvert_exporter": "python",
   "pygments_lexer": "ipython3",
   "version": "3.11.4"
  }
 },
 "nbformat": 4,
 "nbformat_minor": 5
}
